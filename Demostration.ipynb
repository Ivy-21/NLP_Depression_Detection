{
 "cells": [
  {
   "cell_type": "markdown",
   "id": "27320869",
   "metadata": {},
   "source": [
    "## Depression Detection Demostration"
   ]
  },
  {
   "cell_type": "code",
   "execution_count": 1,
   "id": "5a485480",
   "metadata": {},
   "outputs": [],
   "source": [
    "import os\n",
    "os.environ['http_proxy'] = 'http://192.41.170.23:3128'\n",
    "os.environ['https_proxy'] = 'http://192.41.170.23:3128'\n",
    "\n",
    "import pandas as pd\n",
    "import torch\n",
    "from torch.utils.data import DataLoader\n",
    "import torch.optim as optim\n",
    "from torch.utils.data import random_split\n",
    "from transformers import DistilBertTokenizer, DistilBertForSequenceClassification, DataCollatorWithPadding, DistilBertConfig\n",
    "import matplotlib.pyplot as plt\n",
    "import seaborn as sns\n",
    "\n",
    "pd.options.display.max_colwidth\n",
    "device = torch.device(\"cuda\" if torch.cuda.is_available() else \"cpu\")"
   ]
  },
  {
   "cell_type": "code",
   "execution_count": 2,
   "id": "839a74e9",
   "metadata": {},
   "outputs": [
    {
     "name": "stdout",
     "output_type": "stream",
     "text": [
      "Archive:  Depression_Detection.csv.zip\n",
      "  inflating: Depression_Detection.csv  \n"
     ]
    }
   ],
   "source": [
    "!unzip Depression_Detection.csv.zip"
   ]
  },
  {
   "cell_type": "code",
   "execution_count": 3,
   "id": "4477f6f7",
   "metadata": {},
   "outputs": [
    {
     "data": {
      "text/plain": [
       "Index(['Timestamp', 'your_comment_for_this_semester'], dtype='object')"
      ]
     },
     "execution_count": 3,
     "metadata": {},
     "output_type": "execute_result"
    }
   ],
   "source": [
    "df = pd.read_csv('Depression_Detection.csv')\n",
    "df.columns"
   ]
  },
  {
   "cell_type": "code",
   "execution_count": 4,
   "id": "6d85c04a",
   "metadata": {},
   "outputs": [
    {
     "name": "stdout",
     "output_type": "stream",
     "text": [
      "Loading LIWC emoji Tokenizer\n"
     ]
    }
   ],
   "source": [
    "print(\"Loading LIWC emoji Tokenizer\")\n",
    "tokenizer = DistilBertTokenizer.from_pretrained('emoji_liwc_tokenizer', do_lower_case=False, tokenize_chinese_chars= False)\n",
    "# print(len(tokenizer))"
   ]
  },
  {
   "cell_type": "code",
   "execution_count": 5,
   "id": "27919040",
   "metadata": {},
   "outputs": [
    {
     "name": "stdout",
     "output_type": "stream",
     "text": [
      "Loading Pretrained Model ...\n",
      "Loading MLM Pretrained weights\n"
     ]
    },
    {
     "data": {
      "text/plain": [
       "<All keys matched successfully>"
      ]
     },
     "execution_count": 5,
     "metadata": {},
     "output_type": "execute_result"
    }
   ],
   "source": [
    "print(\"Loading Pretrained Model ...\")\n",
    "configuration = DistilBertConfig(seq_classif_dropout = 0.2, dropout = 0.3)\n",
    "model = DistilBertForSequenceClassification(configuration)\n",
    "model.resize_token_embeddings(len(tokenizer))\n",
    "\n",
    "print(\"Loading MLM Pretrained weights\")\n",
    "model.load_state_dict(torch.load('model_epoch_1_num194'), strict = False)"
   ]
  },
  {
   "cell_type": "code",
   "execution_count": 6,
   "id": "4fecbdbb",
   "metadata": {},
   "outputs": [],
   "source": [
    "df = df['your_comment_for_this_semester']"
   ]
  },
  {
   "cell_type": "code",
   "execution_count": 7,
   "id": "7d5cbf98-d891-439f-a7a9-80a0b859802c",
   "metadata": {},
   "outputs": [
    {
     "name": "stdout",
     "output_type": "stream",
     "text": [
      "Happy final week!!\n",
      "its hellishly hot these days\n",
      "quite stresful, but proud to be able to manage it\n",
      "Mom, help me!!!\n",
      "Im planning for my vacations right now\n",
      "shitty!!!\n",
      "pretty sad that the term is over\n",
      "I am ok\n",
      "I'm ok\n",
      "I'm okay.\n",
      "I am happy now 🥳\n",
      "your soul is mine.\n",
      "Trying to understand myself.\n",
      "Good Job :)\n",
      "I'm worried I don't know what topic I should select for thesis🥲🥲\n",
      "I gonna die before this semester 😭😭😭😭\n",
      "Well Done🥳🥳\n",
      "Good bye, Chakky 👋🏻👋🏻👋🏻\n",
      "I am happy now 😊😊😊😊😊😊\n"
     ]
    }
   ],
   "source": [
    "predictions = []\n",
    "for sentence in df:\n",
    "    print(sentence)\n",
    "    inputs = tokenizer.__call__(\n",
    "            sentence ,\n",
    "            None,\n",
    "            # pad_to_max_length=True,\n",
    "            add_special_tokens=True,\n",
    "            return_attention_mask=True,\n",
    "            max_length=64,\n",
    "            truncation=True,\n",
    "            padding = 'max_length',\n",
    "            return_tensors = \"pt\"\n",
    "        ).to(device)\n",
    "    # input_ids = inputs.input_ids\n",
    "    # attention_mask = inputs.attention_mask\n",
    "    # print(inputs)\n",
    "    # with torch.no_grad:\n",
    "    model.eval()\n",
    "    model.to(device)    \n",
    "    outputs = model(**inputs)\n",
    "    # print(outputs.logits)\n",
    "    prediction = torch.argmax(outputs.logits, dim = 1)\n",
    "    predictions.append(prediction.item())\n",
    "    # break"
   ]
  },
  {
   "cell_type": "code",
   "execution_count": 8,
   "id": "39b86f57-f0f9-4880-9edc-807359dc0d97",
   "metadata": {},
   "outputs": [
    {
     "name": "stdout",
     "output_type": "stream",
     "text": [
      "[1, 0, 1, 0, 1, 0, 1, 0, 0, 1, 0, 1, 1, 0, 1, 0, 0, 1, 1]\n"
     ]
    }
   ],
   "source": [
    "print(predictions)\n",
    "predict = pd.Series(predictions)"
   ]
  },
  {
   "cell_type": "code",
   "execution_count": 9,
   "id": "784879d0-733b-46ab-b402-fdfd6bac84fc",
   "metadata": {},
   "outputs": [],
   "source": [
    "df = pd.concat((df, predict), axis = 1)\n",
    "predicted = df.copy()"
   ]
  },
  {
   "cell_type": "code",
   "execution_count": 10,
   "id": "5b0a79ef-8224-4dae-96c8-4bf3ea5ac3d3",
   "metadata": {},
   "outputs": [],
   "source": [
    "predicted.columns = ['Your_Comment', 'Prediction']"
   ]
  },
  {
   "cell_type": "code",
   "execution_count": 11,
   "id": "ba43483b-be4d-43e4-ab25-6a29148afa75",
   "metadata": {},
   "outputs": [
    {
     "data": {
      "text/html": [
       "<div>\n",
       "<style scoped>\n",
       "    .dataframe tbody tr th:only-of-type {\n",
       "        vertical-align: middle;\n",
       "    }\n",
       "\n",
       "    .dataframe tbody tr th {\n",
       "        vertical-align: top;\n",
       "    }\n",
       "\n",
       "    .dataframe thead th {\n",
       "        text-align: right;\n",
       "    }\n",
       "</style>\n",
       "<table border=\"1\" class=\"dataframe\">\n",
       "  <thead>\n",
       "    <tr style=\"text-align: right;\">\n",
       "      <th></th>\n",
       "      <th>Your_Comment</th>\n",
       "      <th>Prediction</th>\n",
       "    </tr>\n",
       "  </thead>\n",
       "  <tbody>\n",
       "    <tr>\n",
       "      <th>0</th>\n",
       "      <td>Happy final week!!</td>\n",
       "      <td>Depressed</td>\n",
       "    </tr>\n",
       "    <tr>\n",
       "      <th>1</th>\n",
       "      <td>its hellishly hot these days</td>\n",
       "      <td>Not_Depressed</td>\n",
       "    </tr>\n",
       "    <tr>\n",
       "      <th>2</th>\n",
       "      <td>quite stresful, but proud to be able to manage it</td>\n",
       "      <td>Depressed</td>\n",
       "    </tr>\n",
       "    <tr>\n",
       "      <th>3</th>\n",
       "      <td>Mom, help me!!!</td>\n",
       "      <td>Not_Depressed</td>\n",
       "    </tr>\n",
       "    <tr>\n",
       "      <th>4</th>\n",
       "      <td>Im planning for my vacations right now</td>\n",
       "      <td>Depressed</td>\n",
       "    </tr>\n",
       "    <tr>\n",
       "      <th>5</th>\n",
       "      <td>shitty!!!</td>\n",
       "      <td>Not_Depressed</td>\n",
       "    </tr>\n",
       "    <tr>\n",
       "      <th>6</th>\n",
       "      <td>pretty sad that the term is over</td>\n",
       "      <td>Depressed</td>\n",
       "    </tr>\n",
       "    <tr>\n",
       "      <th>7</th>\n",
       "      <td>I am ok</td>\n",
       "      <td>Not_Depressed</td>\n",
       "    </tr>\n",
       "    <tr>\n",
       "      <th>8</th>\n",
       "      <td>I'm ok</td>\n",
       "      <td>Not_Depressed</td>\n",
       "    </tr>\n",
       "    <tr>\n",
       "      <th>9</th>\n",
       "      <td>I'm okay.</td>\n",
       "      <td>Depressed</td>\n",
       "    </tr>\n",
       "    <tr>\n",
       "      <th>10</th>\n",
       "      <td>I am happy now 🥳</td>\n",
       "      <td>Not_Depressed</td>\n",
       "    </tr>\n",
       "    <tr>\n",
       "      <th>11</th>\n",
       "      <td>your soul is mine.</td>\n",
       "      <td>Depressed</td>\n",
       "    </tr>\n",
       "    <tr>\n",
       "      <th>12</th>\n",
       "      <td>Trying to understand myself.</td>\n",
       "      <td>Depressed</td>\n",
       "    </tr>\n",
       "    <tr>\n",
       "      <th>13</th>\n",
       "      <td>Good Job :)</td>\n",
       "      <td>Not_Depressed</td>\n",
       "    </tr>\n",
       "    <tr>\n",
       "      <th>14</th>\n",
       "      <td>I'm worried I don't know what topic I should s...</td>\n",
       "      <td>Depressed</td>\n",
       "    </tr>\n",
       "    <tr>\n",
       "      <th>15</th>\n",
       "      <td>I gonna die before this semester 😭😭😭😭</td>\n",
       "      <td>Not_Depressed</td>\n",
       "    </tr>\n",
       "    <tr>\n",
       "      <th>16</th>\n",
       "      <td>Well Done🥳🥳</td>\n",
       "      <td>Not_Depressed</td>\n",
       "    </tr>\n",
       "    <tr>\n",
       "      <th>17</th>\n",
       "      <td>Good bye, Chakky 👋🏻👋🏻👋🏻</td>\n",
       "      <td>Depressed</td>\n",
       "    </tr>\n",
       "    <tr>\n",
       "      <th>18</th>\n",
       "      <td>I am happy now 😊😊😊😊😊😊</td>\n",
       "      <td>Depressed</td>\n",
       "    </tr>\n",
       "  </tbody>\n",
       "</table>\n",
       "</div>"
      ],
      "text/plain": [
       "                                         Your_Comment     Prediction\n",
       "0                                  Happy final week!!      Depressed\n",
       "1                        its hellishly hot these days  Not_Depressed\n",
       "2   quite stresful, but proud to be able to manage it      Depressed\n",
       "3                                     Mom, help me!!!  Not_Depressed\n",
       "4              Im planning for my vacations right now      Depressed\n",
       "5                                           shitty!!!  Not_Depressed\n",
       "6                    pretty sad that the term is over      Depressed\n",
       "7                                             I am ok  Not_Depressed\n",
       "8                                              I'm ok  Not_Depressed\n",
       "9                                           I'm okay.      Depressed\n",
       "10                                   I am happy now 🥳  Not_Depressed\n",
       "11                                 your soul is mine.      Depressed\n",
       "12                       Trying to understand myself.      Depressed\n",
       "13                                        Good Job :)  Not_Depressed\n",
       "14  I'm worried I don't know what topic I should s...      Depressed\n",
       "15              I gonna die before this semester 😭😭😭😭  Not_Depressed\n",
       "16                                        Well Done🥳🥳  Not_Depressed\n",
       "17                            Good bye, Chakky 👋🏻👋🏻👋🏻      Depressed\n",
       "18                              I am happy now 😊😊😊😊😊😊      Depressed"
      ]
     },
     "execution_count": 11,
     "metadata": {},
     "output_type": "execute_result"
    }
   ],
   "source": [
    "predicted.loc[predicted['Prediction'] == 0, 'Prediction'] = 'Not_Depressed'\n",
    "predicted.loc[predicted['Prediction'] == 1, 'Prediction'] = 'Depressed'\n",
    "\n",
    "predicted"
   ]
  },
  {
   "cell_type": "code",
   "execution_count": 12,
   "id": "e6ddb868-88a4-47e9-bc53-dcb5bbcac400",
   "metadata": {},
   "outputs": [
    {
     "data": {
      "text/html": [
       "<div>\n",
       "<style scoped>\n",
       "    .dataframe tbody tr th:only-of-type {\n",
       "        vertical-align: middle;\n",
       "    }\n",
       "\n",
       "    .dataframe tbody tr th {\n",
       "        vertical-align: top;\n",
       "    }\n",
       "\n",
       "    .dataframe thead th {\n",
       "        text-align: right;\n",
       "    }\n",
       "</style>\n",
       "<table border=\"1\" class=\"dataframe\">\n",
       "  <thead>\n",
       "    <tr style=\"text-align: right;\">\n",
       "      <th></th>\n",
       "      <th>Your_Comment</th>\n",
       "      <th>Prediction</th>\n",
       "    </tr>\n",
       "  </thead>\n",
       "  <tbody>\n",
       "    <tr>\n",
       "      <th>0</th>\n",
       "      <td>Happy final week!!</td>\n",
       "      <td>Depressed</td>\n",
       "    </tr>\n",
       "    <tr>\n",
       "      <th>1</th>\n",
       "      <td>I'm worried I don't know what topic I should s...</td>\n",
       "      <td>Depressed</td>\n",
       "    </tr>\n",
       "    <tr>\n",
       "      <th>2</th>\n",
       "      <td>Trying to understand myself.</td>\n",
       "      <td>Depressed</td>\n",
       "    </tr>\n",
       "    <tr>\n",
       "      <th>3</th>\n",
       "      <td>your soul is mine.</td>\n",
       "      <td>Depressed</td>\n",
       "    </tr>\n",
       "    <tr>\n",
       "      <th>4</th>\n",
       "      <td>Good bye, Chakky 👋🏻👋🏻👋🏻</td>\n",
       "      <td>Depressed</td>\n",
       "    </tr>\n",
       "    <tr>\n",
       "      <th>5</th>\n",
       "      <td>pretty sad that the term is over</td>\n",
       "      <td>Depressed</td>\n",
       "    </tr>\n",
       "    <tr>\n",
       "      <th>6</th>\n",
       "      <td>I'm okay.</td>\n",
       "      <td>Depressed</td>\n",
       "    </tr>\n",
       "    <tr>\n",
       "      <th>7</th>\n",
       "      <td>Im planning for my vacations right now</td>\n",
       "      <td>Depressed</td>\n",
       "    </tr>\n",
       "    <tr>\n",
       "      <th>8</th>\n",
       "      <td>quite stresful, but proud to be able to manage it</td>\n",
       "      <td>Depressed</td>\n",
       "    </tr>\n",
       "    <tr>\n",
       "      <th>9</th>\n",
       "      <td>I am happy now 😊😊😊😊😊😊</td>\n",
       "      <td>Depressed</td>\n",
       "    </tr>\n",
       "    <tr>\n",
       "      <th>10</th>\n",
       "      <td>I am ok</td>\n",
       "      <td>Not_Depressed</td>\n",
       "    </tr>\n",
       "    <tr>\n",
       "      <th>11</th>\n",
       "      <td>I'm ok</td>\n",
       "      <td>Not_Depressed</td>\n",
       "    </tr>\n",
       "    <tr>\n",
       "      <th>12</th>\n",
       "      <td>I am happy now 🥳</td>\n",
       "      <td>Not_Depressed</td>\n",
       "    </tr>\n",
       "    <tr>\n",
       "      <th>13</th>\n",
       "      <td>Mom, help me!!!</td>\n",
       "      <td>Not_Depressed</td>\n",
       "    </tr>\n",
       "    <tr>\n",
       "      <th>14</th>\n",
       "      <td>Good Job :)</td>\n",
       "      <td>Not_Depressed</td>\n",
       "    </tr>\n",
       "    <tr>\n",
       "      <th>15</th>\n",
       "      <td>its hellishly hot these days</td>\n",
       "      <td>Not_Depressed</td>\n",
       "    </tr>\n",
       "    <tr>\n",
       "      <th>16</th>\n",
       "      <td>I gonna die before this semester 😭😭😭😭</td>\n",
       "      <td>Not_Depressed</td>\n",
       "    </tr>\n",
       "    <tr>\n",
       "      <th>17</th>\n",
       "      <td>Well Done🥳🥳</td>\n",
       "      <td>Not_Depressed</td>\n",
       "    </tr>\n",
       "    <tr>\n",
       "      <th>18</th>\n",
       "      <td>shitty!!!</td>\n",
       "      <td>Not_Depressed</td>\n",
       "    </tr>\n",
       "  </tbody>\n",
       "</table>\n",
       "</div>"
      ],
      "text/plain": [
       "                                         Your_Comment     Prediction\n",
       "0                                  Happy final week!!      Depressed\n",
       "1   I'm worried I don't know what topic I should s...      Depressed\n",
       "2                        Trying to understand myself.      Depressed\n",
       "3                                  your soul is mine.      Depressed\n",
       "4                             Good bye, Chakky 👋🏻👋🏻👋🏻      Depressed\n",
       "5                    pretty sad that the term is over      Depressed\n",
       "6                                           I'm okay.      Depressed\n",
       "7              Im planning for my vacations right now      Depressed\n",
       "8   quite stresful, but proud to be able to manage it      Depressed\n",
       "9                               I am happy now 😊😊😊😊😊😊      Depressed\n",
       "10                                            I am ok  Not_Depressed\n",
       "11                                             I'm ok  Not_Depressed\n",
       "12                                   I am happy now 🥳  Not_Depressed\n",
       "13                                    Mom, help me!!!  Not_Depressed\n",
       "14                                        Good Job :)  Not_Depressed\n",
       "15                       its hellishly hot these days  Not_Depressed\n",
       "16              I gonna die before this semester 😭😭😭😭  Not_Depressed\n",
       "17                                        Well Done🥳🥳  Not_Depressed\n",
       "18                                          shitty!!!  Not_Depressed"
      ]
     },
     "execution_count": 12,
     "metadata": {},
     "output_type": "execute_result"
    }
   ],
   "source": [
    "predicted.sort_values(by = ['Prediction']).reset_index(drop = True)"
   ]
  },
  {
   "cell_type": "code",
   "execution_count": 13,
   "id": "06335696-9f9c-4dbc-bba8-75cf34e37e88",
   "metadata": {},
   "outputs": [],
   "source": [
    "print_scores = df.loc[:, 0].sum()/len(df)"
   ]
  },
  {
   "cell_type": "code",
   "execution_count": 14,
   "id": "46ecbbeb-2823-4cba-8bc1-6d0e9399f277",
   "metadata": {},
   "outputs": [
    {
     "data": {
      "text/plain": [
       "<matplotlib.legend.Legend at 0x7f0a03dc41c0>"
      ]
     },
     "execution_count": 14,
     "metadata": {},
     "output_type": "execute_result"
    },
    {
     "data": {
      "image/png": "[encoded data removed]",
      "text/plain": [
       "<Figure size 432x288 with 1 Axes>"
      ]
     },
     "metadata": {
      "needs_background": "light"
     },
     "output_type": "display_data"
    }
   ],
   "source": [
    "sns.countplot(data = predicted, x = 'Prediction', hue ='Prediction')\n",
    "plt.title(f'Depression rate is {round(print_scores,2)}')\n",
    "plt.legend()"
   ]
  },
  {
   "cell_type": "code",
   "execution_count": 15,
   "id": "27121a83-67c1-4adb-bc35-d2e4225c724f",
   "metadata": {},
   "outputs": [],
   "source": [
    "pd.options.display.max_colwidth = 128"
   ]
  }
 ],
 "metadata": {
  "kernelspec": {
   "display_name": "Python 3 (ipykernel)",
   "language": "python",
   "name": "python3"
  },
  "language_info": {
   "codemirror_mode": {
    "name": "ipython",
    "version": 3
   },
   "file_extension": ".py",
   "mimetype": "text/x-python",
   "name": "python",
   "nbconvert_exporter": "python",
   "pygments_lexer": "ipython3",
   "version": "3.9.7"
  }
 },
 "nbformat": 4,
 "nbformat_minor": 5
}
